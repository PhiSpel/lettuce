{
 "cells": [
  {
   "cell_type": "markdown",
   "id": "8275480f",
   "metadata": {},
   "source": [
    "## Grid refinement study for the flow around an obstacle"
   ]
  },
  {
   "cell_type": "code",
   "execution_count": 6,
   "id": "95c5e8f8",
   "metadata": {
    "ExecuteTime": {
     "start_time": "2023-04-19T17:53:59.308666Z",
     "end_time": "2023-04-19T17:53:59.352718Z"
    }
   },
   "outputs": [],
   "source": [
    "import lettuce as lt\n",
    "import torch\n",
    "import numpy as np\n",
    "from scipy import interpolate\n",
    "from matplotlib import pyplot as plt"
   ]
  },
  {
   "cell_type": "code",
   "execution_count": 51,
   "outputs": [],
   "source": [
    "debug = True\n",
    "nreport = 10\n",
    "nconsole = 100\n",
    "nmax = 10000\n",
    "epsilon = 1e-5\n",
    "Re = 10000\n",
    "Ma = 0.01\n",
    "lattice = lt.Lattice(lt.D2Q9, torch.device(\"cuda:0\"), use_native=False)\n",
    "length_x = 10.1\n",
    "ny = 1000\n",
    "nx = 2*ny"
   ],
   "metadata": {
    "collapsed": false,
    "ExecuteTime": {
     "start_time": "2023-04-19T18:20:46.545096Z",
     "end_time": "2023-04-19T18:20:46.588615Z"
    }
   }
  },
  {
   "cell_type": "code",
   "execution_count": 52,
   "id": "3a1158ed",
   "metadata": {
    "ExecuteTime": {
     "start_time": "2023-04-19T18:20:47.014588Z",
     "end_time": "2023-04-19T18:20:47.017430Z"
    }
   },
   "outputs": [],
   "source": [
    "def mask_from_csv(x, y):\n",
    "    nx1, ny1 = np.shape(x)\n",
    "    n_wing_nose = int(nx1//4)    # wing starts after 1/4 of domain length\n",
    "    n_wing_tail = int(nx1*3//4)  # wing goes until 3/4 of domain length\n",
    "    n_wing_height = int(ny1//2)  # wing sits at middle of domain length\n",
    "\n",
    "    # read wing data\n",
    "    top_surface_data = np.fromfile('top_surface.csv', sep=' ', dtype=float)\n",
    "    top_surface_data = np.reshape(top_surface_data, (int(len(top_surface_data)/2),2)).transpose()\n",
    "    bottom_surface_data = np.fromfile('bottom_surface.csv', sep=' ', dtype=float)\n",
    "    bottom_surface_data = np.reshape(bottom_surface_data, (int(len(bottom_surface_data)/2),2)).transpose()\n",
    "\n",
    "    x_data_top = top_surface_data[0]\n",
    "    y_data_top = top_surface_data[1]\n",
    "    x_data_bottom = bottom_surface_data[0]\n",
    "    y_data_bottom = bottom_surface_data[1]\n",
    "\n",
    "    # calculate scaling factor\n",
    "    x_wing_nose = x[n_wing_nose,0] # 2.525\n",
    "    x_wing_tail = x[n_wing_tail,0] # 7.575\n",
    "    available_length_x = x_wing_tail - x_wing_nose # 5.05\n",
    "    available_length_n = n_wing_tail-n_wing_nose\n",
    "    actual_wing_length_x = max(max(x_data_top), max(x_data_bottom)) # 100\n",
    "    scaling_factor = available_length_x / actual_wing_length_x # 0.0505\n",
    "    # scale wing data to fit domain restrictions\n",
    "    x_data_top *= scaling_factor    # [5.05 ... 0]\n",
    "    x_data_bottom *= scaling_factor # [0 ... 5.05]\n",
    "    y_data_top *= scaling_factor    # [0 ... 0.39 ... 0]\n",
    "    y_data_bottom *= scaling_factor # [0 ... -0.20 ... 0]\n",
    "\n",
    "    # mapping data to the grid\n",
    "    x_data_interp        = np.linspace(0, available_length_x, available_length_n)            # [0 ... 5.05]\n",
    "    y_data_top_interp    = interpolate.interp1d(x_data_top, y_data_top)(x_data_interp)       # .interp1d object\n",
    "    y_data_bottom_interp = interpolate.interp1d(x_data_bottom, y_data_bottom)(x_data_interp) # .interp1d object\n",
    "\n",
    "    # shifting the wing up by half the grid\n",
    "    y_wing_height = y[0, n_wing_height]\n",
    "    y_data_top_interp += y_wing_height\n",
    "    y_data_bottom_interp += y_wing_height\n",
    "\n",
    "    # setting y data in a 2D grid to compare with flow.grid[1]\n",
    "    y_data_top_mapped = np.zeros(np.shape(y))\n",
    "    y_data_top_mapped[n_wing_nose:n_wing_tail, :] = np.array([y_data_top_interp]).transpose()\n",
    "    y_data_bottom_mapped = np.zeros(np.shape(y))\n",
    "    y_data_bottom_mapped[n_wing_nose:n_wing_tail, :] = np.array([y_data_bottom_interp]).transpose()\n",
    "\n",
    "    # creating and plotting mask\n",
    "    bool_mask = (y < y_data_top_mapped) & (y > y_data_bottom_mapped)\n",
    "    if debug:\n",
    "        plt.imshow(bool_mask.transpose(), origin=\"lower\", cmap='gray_r')\n",
    "        #plt.show()\n",
    "    return bool_mask"
   ]
  },
  {
   "cell_type": "code",
   "execution_count": 53,
   "outputs": [],
   "source": [
    "def run(nx=200, ny=100, nmax=10000, Re=50.0, Ma=0.05, lattice=lt.Lattice(lt.D2Q9, device=torch.device(\"cuda:0\"), use_native=False), length_x=10.1, *axes):\n",
    "    flow = lt.Obstacle(\n",
    "        (nx, ny),\n",
    "        reynolds_number=Re,\n",
    "        mach_number=Ma,\n",
    "        lattice=lattice,\n",
    "        domain_length_x=length_x\n",
    "    )\n",
    "    x, y = flow.grid\n",
    "    flow.mask = mask_from_csv(x, y)\n",
    "    axes[0].imshow(flow.mask.T, origin=\"lower\")\n",
    "    tau = flow.units.relaxation_parameter_lu\n",
    "    simulation = lt.Simulation(flow, lattice, lt.BGKCollision(lattice, tau),\n",
    "                        lt.StandardStreaming(lattice))\n",
    "\n",
    "    # set up reporters\n",
    "    Energy = lt.IncompressibleKineticEnergy(lattice, flow)\n",
    "    energy_reporter_internal = lt.ObservableReporter(Energy, interval=nreport, out=None)\n",
    "    simulation.reporters.append(energy_reporter_internal)\n",
    "    simulation.reporters.append(lt.ObservableReporter(Energy, interval=nconsole)) # print energy\n",
    "    simulation.reporters.append(lt.VTKReporter(lattice, flow, interval=nreport, filename_base=\"./data/out\"))\n",
    "\n",
    "    simulation.initialize_f_neq()\n",
    "    energy_new = 0\n",
    "    mlups = 0\n",
    "    iterations = int(nmax//nconsole)\n",
    "    for i in range(iterations):\n",
    "        energy_old = energy_new\n",
    "        energy_new = Energy(simulation.f).mean()\n",
    "        mlups += simulation.step(nconsole)\n",
    "        if abs((energy_new - energy_old)/energy_new) < epsilon or not energy_new == energy_new:\n",
    "            print(\"CONVERGENCE! Less than \", epsilon*100, \" % relative change\")\n",
    "            print(\"avg MLUPS: \", mlups/i)\n",
    "            u = flow.units.convert_velocity_to_pu(lattice.u(simulation.f).detach().cpu().numpy())\n",
    "            return axes[1].imshow(u[0,...].T, origin=\"lower\")\n",
    "    print(\"avg MLUPS: \", mlups/iterations)\n",
    "    u = flow.units.convert_velocity_to_pu(lattice.u(simulation.f).detach().cpu().numpy())\n",
    "    return axes[1].imshow(u[0,...].T, origin=\"lower\")"
   ],
   "metadata": {
    "collapsed": false,
    "ExecuteTime": {
     "start_time": "2023-04-19T18:20:47.463643Z",
     "end_time": "2023-04-19T18:20:47.468180Z"
    }
   }
  },
  {
   "cell_type": "code",
   "execution_count": 54,
   "id": "5ab90e9e",
   "metadata": {
    "scrolled": true,
    "ExecuteTime": {
     "start_time": "2023-04-19T18:20:29.225851Z",
     "end_time": "2023-04-19T18:20:31.537175Z"
    }
   },
   "outputs": [
    {
     "name": "stdout",
     "output_type": "stream",
     "text": [
      "steps     time     IncompressibleKineticEnergy\n",
      "steps     time     IncompressibleKineticEnergy\n",
      "0 0.0 24.54168128967285\n",
      "100 0.0029156188594076106 24.49919319152832\n",
      "200 0.005831237718815221 24.47779655456543\n"
     ]
    },
    {
     "ename": "KeyboardInterrupt",
     "evalue": "",
     "output_type": "error",
     "traceback": [
      "\u001B[0;31m---------------------------------------------------------------------------\u001B[0m",
      "\u001B[0;31mKeyboardInterrupt\u001B[0m                         Traceback (most recent call last)",
      "Cell \u001B[0;32mIn[54], line 3\u001B[0m\n\u001B[1;32m      1\u001B[0m fig, axes \u001B[38;5;241m=\u001B[39m plt\u001B[38;5;241m.\u001B[39msubplots(\u001B[38;5;241m1\u001B[39m,\u001B[38;5;241m2\u001B[39m, figsize\u001B[38;5;241m=\u001B[39m(\u001B[38;5;241m10\u001B[39m,\u001B[38;5;241m3\u001B[39m))\n\u001B[1;32m      2\u001B[0m fig\u001B[38;5;241m.\u001B[39msubplots_adjust(right\u001B[38;5;241m=\u001B[39m\u001B[38;5;241m0.85\u001B[39m)\n\u001B[0;32m----> 3\u001B[0m im2 \u001B[38;5;241m=\u001B[39m \u001B[43mrun\u001B[49m\u001B[43m(\u001B[49m\u001B[43mnx\u001B[49m\u001B[43m,\u001B[49m\u001B[43m \u001B[49m\u001B[43mny\u001B[49m\u001B[43m,\u001B[49m\u001B[43m \u001B[49m\u001B[43mnmax\u001B[49m\u001B[43m,\u001B[49m\u001B[43m \u001B[49m\u001B[43mRe\u001B[49m\u001B[43m,\u001B[49m\u001B[43m \u001B[49m\u001B[43mMa\u001B[49m\u001B[43m,\u001B[49m\u001B[43m \u001B[49m\u001B[43mlattice\u001B[49m\u001B[43m,\u001B[49m\u001B[43m \u001B[49m\u001B[43mlength_x\u001B[49m\u001B[43m,\u001B[49m\u001B[43m \u001B[49m\u001B[38;5;241;43m*\u001B[39;49m\u001B[43maxes\u001B[49m\u001B[43m)\u001B[49m\n\u001B[1;32m      4\u001B[0m cbar_ax \u001B[38;5;241m=\u001B[39m fig\u001B[38;5;241m.\u001B[39madd_axes([\u001B[38;5;241m0.88\u001B[39m, \u001B[38;5;241m0.15\u001B[39m, \u001B[38;5;241m0.04\u001B[39m, \u001B[38;5;241m0.7\u001B[39m])\n\u001B[1;32m      5\u001B[0m fig\u001B[38;5;241m.\u001B[39mcolorbar(im2, cax\u001B[38;5;241m=\u001B[39mcbar_ax)\n",
      "Cell \u001B[0;32mIn[53], line 30\u001B[0m, in \u001B[0;36mrun\u001B[0;34m(nx, ny, nmax, Re, Ma, lattice, length_x, *axes)\u001B[0m\n\u001B[1;32m     28\u001B[0m energy_old \u001B[38;5;241m=\u001B[39m energy_new\n\u001B[1;32m     29\u001B[0m energy_new \u001B[38;5;241m=\u001B[39m Energy(simulation\u001B[38;5;241m.\u001B[39mf)\u001B[38;5;241m.\u001B[39mmean()\n\u001B[0;32m---> 30\u001B[0m mlups \u001B[38;5;241m+\u001B[39m\u001B[38;5;241m=\u001B[39m \u001B[43msimulation\u001B[49m\u001B[38;5;241;43m.\u001B[39;49m\u001B[43mstep\u001B[49m\u001B[43m(\u001B[49m\u001B[43mnconsole\u001B[49m\u001B[43m)\u001B[49m\n\u001B[1;32m     31\u001B[0m \u001B[38;5;28;01mif\u001B[39;00m \u001B[38;5;28mabs\u001B[39m((energy_new \u001B[38;5;241m-\u001B[39m energy_old)\u001B[38;5;241m/\u001B[39menergy_new) \u001B[38;5;241m<\u001B[39m epsilon \u001B[38;5;129;01mor\u001B[39;00m \u001B[38;5;129;01mnot\u001B[39;00m energy_new \u001B[38;5;241m==\u001B[39m energy_new:\n\u001B[1;32m     32\u001B[0m     \u001B[38;5;28mprint\u001B[39m(\u001B[38;5;124m\"\u001B[39m\u001B[38;5;124mCONVERGENCE! Less than \u001B[39m\u001B[38;5;124m\"\u001B[39m, epsilon\u001B[38;5;241m*\u001B[39m\u001B[38;5;241m100\u001B[39m, \u001B[38;5;124m\"\u001B[39m\u001B[38;5;124m \u001B[39m\u001B[38;5;132;01m% r\u001B[39;00m\u001B[38;5;124melative change\u001B[39m\u001B[38;5;124m\"\u001B[39m)\n",
      "File \u001B[0;32m~/lettuce/lettuce/simulation.py:137\u001B[0m, in \u001B[0;36mSimulation.step\u001B[0;34m(self, num_steps)\u001B[0m\n\u001B[1;32m    135\u001B[0m         \u001B[38;5;28mself\u001B[39m\u001B[38;5;241m.\u001B[39mf \u001B[38;5;241m=\u001B[39m boundary(\u001B[38;5;28mself\u001B[39m\u001B[38;5;241m.\u001B[39mf)\n\u001B[1;32m    136\u001B[0m     \u001B[38;5;28mself\u001B[39m\u001B[38;5;241m.\u001B[39mi \u001B[38;5;241m+\u001B[39m\u001B[38;5;241m=\u001B[39m \u001B[38;5;241m1\u001B[39m\n\u001B[0;32m--> 137\u001B[0m     \u001B[38;5;28;43mself\u001B[39;49m\u001B[38;5;241;43m.\u001B[39;49m\u001B[43m_report\u001B[49m\u001B[43m(\u001B[49m\u001B[43m)\u001B[49m\n\u001B[1;32m    139\u001B[0m end \u001B[38;5;241m=\u001B[39m timer()\n\u001B[1;32m    140\u001B[0m seconds \u001B[38;5;241m=\u001B[39m end \u001B[38;5;241m-\u001B[39m start\n",
      "File \u001B[0;32m~/lettuce/lettuce/simulation.py:147\u001B[0m, in \u001B[0;36mSimulation._report\u001B[0;34m(self)\u001B[0m\n\u001B[1;32m    145\u001B[0m \u001B[38;5;28;01mdef\u001B[39;00m \u001B[38;5;21m_report\u001B[39m(\u001B[38;5;28mself\u001B[39m):\n\u001B[1;32m    146\u001B[0m     \u001B[38;5;28;01mfor\u001B[39;00m reporter \u001B[38;5;129;01min\u001B[39;00m \u001B[38;5;28mself\u001B[39m\u001B[38;5;241m.\u001B[39mreporters:\n\u001B[0;32m--> 147\u001B[0m         \u001B[43mreporter\u001B[49m\u001B[43m(\u001B[49m\u001B[38;5;28;43mself\u001B[39;49m\u001B[38;5;241;43m.\u001B[39;49m\u001B[43mi\u001B[49m\u001B[43m,\u001B[49m\u001B[43m \u001B[49m\u001B[38;5;28;43mself\u001B[39;49m\u001B[38;5;241;43m.\u001B[39;49m\u001B[43mflow\u001B[49m\u001B[38;5;241;43m.\u001B[39;49m\u001B[43munits\u001B[49m\u001B[38;5;241;43m.\u001B[39;49m\u001B[43mconvert_time_to_pu\u001B[49m\u001B[43m(\u001B[49m\u001B[38;5;28;43mself\u001B[39;49m\u001B[38;5;241;43m.\u001B[39;49m\u001B[43mi\u001B[49m\u001B[43m)\u001B[49m\u001B[43m,\u001B[49m\u001B[43m \u001B[49m\u001B[38;5;28;43mself\u001B[39;49m\u001B[38;5;241;43m.\u001B[39;49m\u001B[43mf\u001B[49m\u001B[43m)\u001B[49m\n",
      "File \u001B[0;32m~/lettuce/lettuce/reporters.py:63\u001B[0m, in \u001B[0;36mVTKReporter.__call__\u001B[0;34m(self, i, t, f)\u001B[0m\n\u001B[1;32m     61\u001B[0m     \u001B[38;5;28;01mfor\u001B[39;00m d \u001B[38;5;129;01min\u001B[39;00m \u001B[38;5;28mrange\u001B[39m(\u001B[38;5;28mself\u001B[39m\u001B[38;5;241m.\u001B[39mlattice\u001B[38;5;241m.\u001B[39mD):\n\u001B[1;32m     62\u001B[0m         \u001B[38;5;28mself\u001B[39m\u001B[38;5;241m.\u001B[39mpoint_dict[\u001B[38;5;124mf\u001B[39m\u001B[38;5;124m\"\u001B[39m\u001B[38;5;124mu\u001B[39m\u001B[38;5;132;01m{\u001B[39;00m\u001B[38;5;124m'\u001B[39m\u001B[38;5;124mxyz\u001B[39m\u001B[38;5;124m'\u001B[39m[d]\u001B[38;5;132;01m}\u001B[39;00m\u001B[38;5;124m\"\u001B[39m] \u001B[38;5;241m=\u001B[39m \u001B[38;5;28mself\u001B[39m\u001B[38;5;241m.\u001B[39mlattice\u001B[38;5;241m.\u001B[39mconvert_to_numpy(u[d, \u001B[38;5;241m.\u001B[39m\u001B[38;5;241m.\u001B[39m\u001B[38;5;241m.\u001B[39m])\n\u001B[0;32m---> 63\u001B[0m \u001B[43mwrite_vtk\u001B[49m\u001B[43m(\u001B[49m\u001B[38;5;28;43mself\u001B[39;49m\u001B[38;5;241;43m.\u001B[39;49m\u001B[43mpoint_dict\u001B[49m\u001B[43m,\u001B[49m\u001B[43m \u001B[49m\u001B[43mi\u001B[49m\u001B[43m,\u001B[49m\u001B[43m \u001B[49m\u001B[38;5;28;43mself\u001B[39;49m\u001B[38;5;241;43m.\u001B[39;49m\u001B[43mfilename_base\u001B[49m\u001B[43m)\u001B[49m\n",
      "File \u001B[0;32m~/lettuce/lettuce/reporters.py:31\u001B[0m, in \u001B[0;36mwrite_vtk\u001B[0;34m(point_dict, id, filename_base)\u001B[0m\n\u001B[1;32m     30\u001B[0m \u001B[38;5;28;01mdef\u001B[39;00m \u001B[38;5;21mwrite_vtk\u001B[39m(point_dict, \u001B[38;5;28mid\u001B[39m\u001B[38;5;241m=\u001B[39m\u001B[38;5;241m0\u001B[39m, filename_base\u001B[38;5;241m=\u001B[39m\u001B[38;5;124m\"\u001B[39m\u001B[38;5;124m./data/output\u001B[39m\u001B[38;5;124m\"\u001B[39m):\n\u001B[0;32m---> 31\u001B[0m     \u001B[43mvtk\u001B[49m\u001B[38;5;241;43m.\u001B[39;49m\u001B[43mgridToVTK\u001B[49m\u001B[43m(\u001B[49m\u001B[38;5;124;43mf\u001B[39;49m\u001B[38;5;124;43m\"\u001B[39;49m\u001B[38;5;132;43;01m{\u001B[39;49;00m\u001B[43mfilename_base\u001B[49m\u001B[38;5;132;43;01m}\u001B[39;49;00m\u001B[38;5;124;43m_\u001B[39;49m\u001B[38;5;132;43;01m{\u001B[39;49;00m\u001B[38;5;28;43mid\u001B[39;49m\u001B[38;5;132;43;01m:\u001B[39;49;00m\u001B[38;5;124;43m08d\u001B[39;49m\u001B[38;5;132;43;01m}\u001B[39;49;00m\u001B[38;5;124;43m\"\u001B[39;49m\u001B[43m,\u001B[49m\n\u001B[1;32m     32\u001B[0m \u001B[43m                  \u001B[49m\u001B[43mnp\u001B[49m\u001B[38;5;241;43m.\u001B[39;49m\u001B[43marange\u001B[49m\u001B[43m(\u001B[49m\u001B[38;5;241;43m0\u001B[39;49m\u001B[43m,\u001B[49m\u001B[43m \u001B[49m\u001B[43mpoint_dict\u001B[49m\u001B[43m[\u001B[49m\u001B[38;5;124;43m\"\u001B[39;49m\u001B[38;5;124;43mp\u001B[39;49m\u001B[38;5;124;43m\"\u001B[39;49m\u001B[43m]\u001B[49m\u001B[38;5;241;43m.\u001B[39;49m\u001B[43mshape\u001B[49m\u001B[43m[\u001B[49m\u001B[38;5;241;43m0\u001B[39;49m\u001B[43m]\u001B[49m\u001B[43m)\u001B[49m\u001B[43m,\u001B[49m\n\u001B[1;32m     33\u001B[0m \u001B[43m                  \u001B[49m\u001B[43mnp\u001B[49m\u001B[38;5;241;43m.\u001B[39;49m\u001B[43marange\u001B[49m\u001B[43m(\u001B[49m\u001B[38;5;241;43m0\u001B[39;49m\u001B[43m,\u001B[49m\u001B[43m \u001B[49m\u001B[43mpoint_dict\u001B[49m\u001B[43m[\u001B[49m\u001B[38;5;124;43m\"\u001B[39;49m\u001B[38;5;124;43mp\u001B[39;49m\u001B[38;5;124;43m\"\u001B[39;49m\u001B[43m]\u001B[49m\u001B[38;5;241;43m.\u001B[39;49m\u001B[43mshape\u001B[49m\u001B[43m[\u001B[49m\u001B[38;5;241;43m1\u001B[39;49m\u001B[43m]\u001B[49m\u001B[43m)\u001B[49m\u001B[43m,\u001B[49m\n\u001B[1;32m     34\u001B[0m \u001B[43m                  \u001B[49m\u001B[43mnp\u001B[49m\u001B[38;5;241;43m.\u001B[39;49m\u001B[43marange\u001B[49m\u001B[43m(\u001B[49m\u001B[38;5;241;43m0\u001B[39;49m\u001B[43m,\u001B[49m\u001B[43m \u001B[49m\u001B[43mpoint_dict\u001B[49m\u001B[43m[\u001B[49m\u001B[38;5;124;43m\"\u001B[39;49m\u001B[38;5;124;43mp\u001B[39;49m\u001B[38;5;124;43m\"\u001B[39;49m\u001B[43m]\u001B[49m\u001B[38;5;241;43m.\u001B[39;49m\u001B[43mshape\u001B[49m\u001B[43m[\u001B[49m\u001B[38;5;241;43m2\u001B[39;49m\u001B[43m]\u001B[49m\u001B[43m)\u001B[49m\u001B[43m,\u001B[49m\n\u001B[1;32m     35\u001B[0m \u001B[43m                  \u001B[49m\u001B[43mpointData\u001B[49m\u001B[38;5;241;43m=\u001B[39;49m\u001B[43mpoint_dict\u001B[49m\u001B[43m)\u001B[49m\n",
      "File \u001B[0;32m~/anaconda3/envs/lettuce/lib/python3.10/site-packages/pyevtk/hl.py:330\u001B[0m, in \u001B[0;36mgridToVTK\u001B[0;34m(path, x, y, z, cellData, pointData, fieldData, start)\u001B[0m\n\u001B[1;32m    328\u001B[0m     w\u001B[38;5;241m.\u001B[39mappendData((x, y, z))\n\u001B[1;32m    329\u001B[0m \u001B[38;5;66;03m# Write data\u001B[39;00m\n\u001B[0;32m--> 330\u001B[0m \u001B[43m_appendDataToFile\u001B[49m\u001B[43m(\u001B[49m\u001B[43mw\u001B[49m\u001B[43m,\u001B[49m\u001B[43m \u001B[49m\u001B[43mcellData\u001B[49m\u001B[43m,\u001B[49m\u001B[43m \u001B[49m\u001B[43mpointData\u001B[49m\u001B[43m,\u001B[49m\u001B[43m \u001B[49m\u001B[43mfieldData\u001B[49m\u001B[43m)\u001B[49m\n\u001B[1;32m    332\u001B[0m \u001B[38;5;66;03m# Close file\u001B[39;00m\n\u001B[1;32m    333\u001B[0m w\u001B[38;5;241m.\u001B[39msave()\n",
      "File \u001B[0;32m~/anaconda3/envs/lettuce/lib/python3.10/site-packages/pyevtk/hl.py:122\u001B[0m, in \u001B[0;36m_appendDataToFile\u001B[0;34m(vtkFile, cellData, pointData, fieldData)\u001B[0m\n\u001B[1;32m    120\u001B[0m     \u001B[38;5;28;01mfor\u001B[39;00m key \u001B[38;5;129;01min\u001B[39;00m keys:\n\u001B[1;32m    121\u001B[0m         data \u001B[38;5;241m=\u001B[39m pointData[key]\n\u001B[0;32m--> 122\u001B[0m         \u001B[43mvtkFile\u001B[49m\u001B[38;5;241;43m.\u001B[39;49m\u001B[43mappendData\u001B[49m\u001B[43m(\u001B[49m\u001B[43mdata\u001B[49m\u001B[43m)\u001B[49m\n\u001B[1;32m    124\u001B[0m \u001B[38;5;28;01mif\u001B[39;00m cellData \u001B[38;5;129;01mis\u001B[39;00m \u001B[38;5;129;01mnot\u001B[39;00m \u001B[38;5;28;01mNone\u001B[39;00m:\n\u001B[1;32m    125\u001B[0m     keys \u001B[38;5;241m=\u001B[39m \u001B[38;5;28mlist\u001B[39m(cellData\u001B[38;5;241m.\u001B[39mkeys())\n",
      "File \u001B[0;32m~/anaconda3/envs/lettuce/lib/python3.10/site-packages/pyevtk/vtk.py:640\u001B[0m, in \u001B[0;36mVtkFile.appendData\u001B[0;34m(self, data)\u001B[0m\n\u001B[1;32m    637\u001B[0m     writeBlockSize(\u001B[38;5;28mself\u001B[39m\u001B[38;5;241m.\u001B[39mxml\u001B[38;5;241m.\u001B[39mstream, block_size)\n\u001B[1;32m    638\u001B[0m     \u001B[38;5;66;03m# else:\u001B[39;00m\n\u001B[1;32m    639\u001B[0m     \u001B[38;5;66;03m#    writeBlockSize64Bit(self.xml.stream, block_size)\u001B[39;00m\n\u001B[0;32m--> 640\u001B[0m     \u001B[43mwriteArrayToFile\u001B[49m\u001B[43m(\u001B[49m\u001B[38;5;28;43mself\u001B[39;49m\u001B[38;5;241;43m.\u001B[39;49m\u001B[43mxml\u001B[49m\u001B[38;5;241;43m.\u001B[39;49m\u001B[43mstream\u001B[49m\u001B[43m,\u001B[49m\u001B[43m \u001B[49m\u001B[43mdata\u001B[49m\u001B[43m)\u001B[49m\n\u001B[1;32m    642\u001B[0m \u001B[38;5;28;01melse\u001B[39;00m:\n\u001B[1;32m    643\u001B[0m     \u001B[38;5;28;01massert\u001B[39;00m \u001B[38;5;28;01mFalse\u001B[39;00m\n",
      "File \u001B[0;32m~/anaconda3/envs/lettuce/lib/python3.10/site-packages/pyevtk/evtk.py:99\u001B[0m, in \u001B[0;36mwriteArrayToFile\u001B[0;34m(stream, data)\u001B[0m\n\u001B[1;32m     95\u001B[0m \u001B[38;5;66;03m# NOTE: VTK expects data in FORTRAN order\u001B[39;00m\n\u001B[1;32m     96\u001B[0m \u001B[38;5;66;03m# This is only needed when a multidimensional array has C-layout\u001B[39;00m\n\u001B[1;32m     97\u001B[0m dd \u001B[38;5;241m=\u001B[39m np\u001B[38;5;241m.\u001B[39mravel(data, order\u001B[38;5;241m=\u001B[39m\u001B[38;5;124m\"\u001B[39m\u001B[38;5;124mF\u001B[39m\u001B[38;5;124m\"\u001B[39m)\n\u001B[0;32m---> 99\u001B[0m bin_pack \u001B[38;5;241m=\u001B[39m \u001B[43mstruct\u001B[49m\u001B[38;5;241;43m.\u001B[39;49m\u001B[43mpack\u001B[49m\u001B[43m(\u001B[49m\u001B[43mfmt\u001B[49m\u001B[43m,\u001B[49m\u001B[43m \u001B[49m\u001B[38;5;241;43m*\u001B[39;49m\u001B[43mdd\u001B[49m\u001B[43m)\u001B[49m\n\u001B[1;32m    100\u001B[0m stream\u001B[38;5;241m.\u001B[39mwrite(bin_pack)\n",
      "\u001B[0;31mKeyboardInterrupt\u001B[0m: "
     ]
    },
    {
     "data": {
      "text/plain": "<Figure size 1000x300 with 2 Axes>",
      "image/png": "[encoded data removed]"
     },
     "metadata": {},
     "output_type": "display_data"
    }
   ],
   "source": [
    "fig, axes = plt.subplots(1,2, figsize=(10,3))\n",
    "fig.subplots_adjust(right=0.85)\n",
    "im2 = run(nx, ny, nmax, Re, Ma, lattice, length_x, *axes)\n",
    "cbar_ax = fig.add_axes([0.88, 0.15, 0.04, 0.7])\n",
    "fig.colorbar(im2, cax=cbar_ax)"
   ]
  },
  {
   "cell_type": "code",
   "execution_count": 39,
   "outputs": [],
   "source": [],
   "metadata": {
    "collapsed": false,
    "ExecuteTime": {
     "start_time": "2023-04-19T18:19:54.531099Z",
     "end_time": "2023-04-19T18:19:54.532495Z"
    }
   }
  },
  {
   "cell_type": "code",
   "execution_count": null,
   "outputs": [],
   "source": [],
   "metadata": {
    "collapsed": false
   }
  }
 ],
 "metadata": {
  "kernelspec": {
   "display_name": "Python 3 (ipykernel)",
   "language": "python",
   "name": "python3"
  },
  "language_info": {
   "codemirror_mode": {
    "name": "ipython",
    "version": 3
   },
   "file_extension": ".py",
   "mimetype": "text/x-python",
   "name": "python",
   "nbconvert_exporter": "python",
   "pygments_lexer": "ipython3",
   "version": "3.9.7"
  }
 },
 "nbformat": 4,
 "nbformat_minor": 5
}
