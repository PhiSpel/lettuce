{
 "cells": [
  {
   "cell_type": "markdown",
   "id": "8275480f",
   "metadata": {},
   "source": [
    "## Study of the 2D flow around a NACA wing shape"
   ]
  },
  {
   "cell_type": "code",
   "execution_count": 1,
   "id": "95c5e8f8",
   "metadata": {
    "ExecuteTime": {
     "start_time": "2023-05-09T17:42:15.912847Z",
     "end_time": "2023-05-09T17:42:17.364989Z"
    }
   },
   "outputs": [],
   "source": [
    "import lettuce as lt\n",
    "import torch\n",
    "import numpy as np\n",
    "from scipy import interpolate\n",
    "from matplotlib import pyplot as plt\n",
    "from time import time"
   ]
  },
  {
   "cell_type": "code",
   "execution_count": 25,
   "outputs": [],
   "source": [
    "Ma = 0.15                   ## The speed of streaming\n",
    "\n",
    "### APPLICATION ###\n",
    "# turbine_diameter =\n",
    "wing_length = 3             ## 'depth' of airfoil profile\n",
    "tempC = 10                  ## degrees celcius\n",
    "#p = 14.5                   ## air pressure\n",
    "rho = 1.293                 ## kg/m³ air density\n",
    "vchar = 15                  ## usually medium streaming velocity (may also be maximum velocity, around 1.5-times)\n",
    "                            ## large wind turbines produce maximum power at 15 m/s. This can be assumed to be streaming velocity around the centre\n",
    "dt_pu = 2e-5                ## this should allow up to 25,000 Hz\n",
    "\n",
    "### DOMAIN ###\n",
    "nx = 1400                   ## number of lattice nodes in x-direction\n",
    "ny = 400                    ## number of lattice nodes in y-direction\n",
    "shape = (nx, ny)            ## domain shape\n",
    "x_wing_nose = 1             ## physical space before wing\n",
    "x_wing_tail = 3             ## physical space behind wing\n",
    "chord_length = wing_length  ## physical length of wing\n",
    "domain_length_x = x_wing_nose + wing_length + x_wing_tail\n",
    "dx = domain_length_x/nx     ## i.e. resolution\n",
    "n_wing_nose = int(x_wing_nose//dx)  ## first grid point with wing\n",
    "n_wing_tail = int(x_wing_tail//dx)  ## first grid point with wing\n",
    "\n",
    "### FLOW CHARACTERISTICS ###\n",
    "#Re = 5e6\n",
    "lchar = wing_length         ## characteristic length in pu is obstacle length\n",
    "temp = tempC+273.15         ## temperature in Kelvin\n",
    "visc_dyn = 2.791e-7*temp**0.7355 ## dynamic viscosity of air\n",
    "visc_kin = visc_dyn/rho     ## kinematic viscosity of air\n",
    "Re = vchar*lchar/visc_kin   ## The type of streaming around the foil. Small (1.5m) 8e3,medium (3-5m) 2e5, large (>5m-150m) up to 5e6\n",
    "\n",
    "# number of steps depends on Mach number and resolution (?)\n",
    "#nmax = 100000\n",
    "tmax = 10                   ## simulate tmax-seconds\n",
    "\n",
    "### SIMULATION PARAMETERS ##\n",
    "# how often to report (every n simulation steps)\n",
    "nreport = 1000\n",
    "# how often to print (every n simulation steps)\n",
    "nconsole = 5000\n",
    "# how often to plot (every n console steps)\n",
    "nplot = 2\n",
    "# test for convergence and crash\n",
    "test_iterations = True\n",
    "test_convergence = False\n",
    "epsilon = 1e-7\n",
    "# run pre-simulation with low Re to get rid of initialization pulses\n",
    "Re_pre = 1000\n",
    "n_pre = 2000  # wing profiles with camber may crash at low Re\n",
    "\n",
    "### LETTUCE PARAMETERS ###\n",
    "lattice = lt.Lattice(lt.D2Q9, torch.device(\"cuda:0\"), use_native=False)\n"
   ],
   "metadata": {
    "collapsed": false,
    "ExecuteTime": {
     "start_time": "2023-05-09T18:07:25.773698Z",
     "end_time": "2023-05-09T18:07:25.817023Z"
    }
   }
  },
  {
   "cell_type": "code",
   "execution_count": 26,
   "id": "3a1158ed",
   "metadata": {
    "ExecuteTime": {
     "start_time": "2023-05-09T18:07:26.086504Z",
     "end_time": "2023-05-09T18:07:26.129389Z"
    }
   },
   "outputs": [],
   "source": [
    "def mask_from_csv(x, y, wing_name):\n",
    "    nx1, ny1 = np.shape(x)\n",
    "    #n_wing_nose = int(nx1//5)    # wing starts after 1/5 of domain length\n",
    "    #n_wing_tail = int(nx1*3//5)  # wing goes until 3/5 of domain length\n",
    "    n_wing_height = int(ny1//2)  # wing sits at middle of domain length\n",
    "\n",
    "    # read wing data from http://airfoiltools.com/plotter/index\n",
    "    surface_data = np.genfromtxt(wing_name+'.csv', delimiter=\",\")[9:,:]\n",
    "    surface_data = surface_data[:np.min(np.where(np.isnan(surface_data)[:,1])),:]\n",
    "    zero_row = np.where(surface_data[:,0]==0)[0][0]\n",
    "    x_data_top, y_data_top = surface_data[:zero_row,:].transpose()\n",
    "    x_data_bottom, y_data_bottom = surface_data[zero_row:,:].transpose()\n",
    "\n",
    "    # calculate scaling factor\n",
    "    #x_wing_nose = x[n_wing_nose,0]\n",
    "    #x_wing_tail = x[n_wing_tail,0]\n",
    "    #available_length_x = x_wing_tail - x_wing_nose\n",
    "    available_length_n = n_wing_tail-n_wing_nose\n",
    "    actual_wing_length_x = max(max(x_data_top), max(x_data_bottom))\n",
    "    scaling_factor = wing_length / actual_wing_length_x\n",
    "\n",
    "    # scale wing data to fit domain restrictions\n",
    "    x_data_top *= scaling_factor\n",
    "    x_data_bottom *= scaling_factor\n",
    "    y_data_top *= scaling_factor\n",
    "    y_data_bottom *= scaling_factor\n",
    "\n",
    "    # mapping data to the grid\n",
    "    x_data_interp        = np.linspace(0, wing_length, available_length_n)            # [0 ... 5.05]\n",
    "    y_data_top_interp    = interpolate.interp1d(x_data_top, y_data_top, fill_value=\"extrapolate\")(x_data_interp)       # .interp1d object\n",
    "    y_data_bottom_interp = interpolate.interp1d(x_data_bottom, y_data_bottom, fill_value=\"extrapolate\")(x_data_interp) # .interp1d object\n",
    "\n",
    "    # shifting the wing up by half the grid\n",
    "    y_wing_height = y[0, n_wing_height]\n",
    "    y_data_top_interp += y_wing_height\n",
    "    y_data_bottom_interp += y_wing_height\n",
    "\n",
    "    # setting y data in a 2D grid to compare with flow.grid[1]\n",
    "    y_data_top_mapped = np.zeros(np.shape(y))\n",
    "    y_data_top_mapped[n_wing_nose:n_wing_tail, :] = np.array([y_data_top_interp]).transpose()\n",
    "    y_data_bottom_mapped = np.zeros(np.shape(y))\n",
    "    y_data_bottom_mapped[n_wing_nose:n_wing_tail, :] = np.array([y_data_bottom_interp]).transpose()\n",
    "\n",
    "    # creating mask\n",
    "    bool_mask = (y < y_data_top_mapped) & (y > y_data_bottom_mapped)\n",
    "    return bool_mask"
   ]
  },
  {
   "cell_type": "code",
   "execution_count": 27,
   "outputs": [],
   "source": [
    "class NacaWithPre(lt.Obstacle):\n",
    "    def __init__(self, wing_name, filename=None):\n",
    "        if filename is None:\n",
    "            self.filename_base = r\"/media/philipp/Storage/data/\"+wing_name\n",
    "        else:\n",
    "            self.filename_base = r\"/media/philipp/Storage/data/\"+filename+'_pre'\n",
    "        self.wing_name = wing_name\n",
    "        self.n_pre = n_pre\n",
    "        self.lattice = lattice\n",
    "        super(NacaWithPre, self).__init__(shape, reynolds_number=Re, mach_number=Ma,lattice=lattice,domain_length_x=domain_length_x)\n",
    "        x, y = self.grid\n",
    "        self.mask = mask_from_csv(x, y, wing_name)\n",
    "        self.pre_flow = lt.Obstacle(shape,reynolds_number=Re_pre,mach_number=Ma,lattice=lattice,domain_length_x=domain_length_x)\n",
    "        self.pre_flow.mask = self.mask\n",
    "\n",
    "    def initial_solution(self, x):\n",
    "        # run a bit with low Re\n",
    "        print('Doing ', n_pre, ' steps with Re = ', Re_pre, ' before actual run.')\n",
    "        simulation = lt.Simulation(self.pre_flow, self.lattice, lt.RegularizedCollision(lattice, self.units.relaxation_parameter_lu),lt.StandardStreaming(lattice))\n",
    "        print(\"total pre-time: \", self.pre_flow.units.convert_time_to_pu(self.n_pre))\n",
    "        simulation.initialize_f_neq()\n",
    "        simulation.reporters.append(lt.ObservableReporter(lt.IncompressibleKineticEnergy(lattice, self.pre_flow), interval=nconsole)) # print energy\n",
    "        simulation.reporters.append(lt.VTKReporter(lattice, self.pre_flow, interval=nreport, filename_base=self.filename_base))\n",
    "        simulation.step(self.n_pre)\n",
    "        p = simulation.flow.units.convert_density_lu_to_pressure_pu(simulation.lattice.rho(simulation.f))\n",
    "        u = self.pre_flow.units.convert_velocity_to_pu(lattice.u(simulation.f))\n",
    "        return p, u"
   ],
   "metadata": {
    "collapsed": false,
    "ExecuteTime": {
     "start_time": "2023-05-09T18:07:26.461054Z",
     "end_time": "2023-05-09T18:07:26.466698Z"
    }
   }
  },
  {
   "cell_type": "code",
   "execution_count": 28,
   "outputs": [],
   "source": [
    "class Naca(lt.Obstacle):\n",
    "    def __init__(self, wing_name):\n",
    "        super(Naca, self).__init__(shape, reynolds_number=Re, mach_number=Ma,lattice=lattice,domain_length_x=domain_length_x,char_length=chord_length,char_velocity=vchar)\n",
    "        x, y = self.grid\n",
    "        self.mask = mask_from_csv(x, y, wing_name)"
   ],
   "metadata": {
    "collapsed": false,
    "ExecuteTime": {
     "start_time": "2023-05-09T18:07:26.657467Z",
     "end_time": "2023-05-09T18:07:26.700993Z"
    }
   }
  },
  {
   "cell_type": "code",
   "execution_count": 32,
   "outputs": [],
   "source": [
    "def setup_simulation(wing_name, filename=None):\n",
    "    if filename is None:\n",
    "        filename_base = r\"/media/philipp/Storage/data/\"+wing_name\n",
    "    else:\n",
    "        filename_base = r\"/media/philipp/Storage/data/\"+filename\n",
    "    flow = Naca(wing_name)\n",
    "    simulation = lt.Simulation(flow, lattice, lt.KBCCollision2D(lattice, flow.units.relaxation_parameter_lu),\n",
    "                        lt.StandardStreaming(lattice))\n",
    "    nmax = flow.units.convert_time_to_lu(tmax)\n",
    "    print(\"Doing up to \", \"{:.2e}\".format(nmax), \" steps.\")\n",
    "    print(\"Key paramters: Chord length\", chord_length, \"[m], Re\", \"{:.2e}\".format(Re), \"[1]\")\n",
    "    print(\"I will record every\", nreport, \"-th step, print every\", nconsole, \"-th step, and plot every\", nconsole*nplot, \"-th step.\\n\",\n",
    "          \"1000 steps correspond to\", tmax/nmax*1e3, \"seconds.\\n\")\n",
    "\n",
    "    # set up reporters\n",
    "    Energy = lt.IncompressibleKineticEnergy(lattice, flow)\n",
    "    #energy_reporter_internal = lt.ObservableReporter(Energy, interval=nreport, out=None)\n",
    "    #simulation.reporters.append(energy_reporter_internal)\n",
    "    simulation.reporters.append(lt.ObservableReporter(Energy, interval=nconsole)) # print energy\n",
    "    simulation.reporters.append(lt.VTKReporter(lattice, flow, interval=nreport, filename_base=filename_base))\n",
    "    return simulation, flow, Energy, nmax\n",
    "\n",
    "def run_n_plot(simulation, flow, Energy, nmax):\n",
    "    # initialize simulation\n",
    "    simulation.initialize_f_neq()\n",
    "    if test_iterations:\n",
    "        energy_new = 0\n",
    "        mlups = 0\n",
    "        iterations = int(nmax//nconsole)\n",
    "        for i in range(iterations):\n",
    "            mlups += simulation.step(nconsole)\n",
    "            energy_old = energy_new\n",
    "            energy_new = Energy(simulation.f).mean().item()\n",
    "            rchange = abs((energy_new - energy_old)/energy_new)\n",
    "            print(\"avg MLUPS: \", mlups/(i+1))\n",
    "            if test_convergence and rchange < epsilon:\n",
    "                print(\"CONVERGENCE! Less than \", epsilon*100, \" % relative change\")\n",
    "                break\n",
    "            elif test_convergence:\n",
    "                print(\"no convergence, still \", round(rchange*100,5), \" % relative change\")\n",
    "            elif not energy_new == energy_new:\n",
    "                print(\"CRASHED!\")\n",
    "                break\n",
    "            if i%nplot == 0:\n",
    "                u = flow.units.convert_velocity_to_pu(lattice.u(simulation.f).detach().cpu().numpy())\n",
    "                plt.imshow(u[0,...].T, origin=\"lower\")\n",
    "                plt.show()\n",
    "        u = flow.units.convert_velocity_to_pu(lattice.u(simulation.f).detach().cpu().numpy())\n",
    "        plt.imshow(u[0,...].T, origin=\"lower\")\n",
    "        plt.show()\n",
    "    else:\n",
    "        mlups = simulation.step(nmax)\n",
    "        print(\"MLUPS: \", mlups)\n",
    "        u = flow.units.convert_velocity_to_pu(lattice.u(simulation.f).detach().cpu().numpy())\n",
    "        plt.imshow(u[0,...].T, origin=\"lower\")\n",
    "        plt.show()\n",
    "    return"
   ],
   "metadata": {
    "collapsed": false,
    "ExecuteTime": {
     "start_time": "2023-05-09T18:19:13.522874Z",
     "end_time": "2023-05-09T18:19:13.524545Z"
    }
   }
  },
  {
   "cell_type": "code",
   "execution_count": 34,
   "id": "5ab90e9e",
   "metadata": {
    "scrolled": true,
    "ExecuteTime": {
     "start_time": "2023-05-09T18:19:26.138681Z",
     "end_time": "2023-05-09T18:19:26.181113Z"
    }
   },
   "outputs": [
    {
     "name": "stdout",
     "output_type": "stream",
     "text": [
      "Doing up to  3.46e+05  steps.\n",
      "Key paramters: Chord length 3 [m], Re 3.28e+06 [1]\n",
      "I will record every 1000 -th step, print every 5000 -th step, and plot every 10000 -th step.\n",
      " 1000 steps correspond to 0.028867513459481294 seconds.\n",
      "\n",
      "steps     time     IncompressibleKineticEnergy\n"
     ]
    }
   ],
   "source": [
    "wing_dict = {\n",
    "    'NACA-63215-highAOA',\n",
    "    'NACA-63215-lowAOA',\n",
    "    'NACA-63215-noAOA',\n",
    "    'NACA-0012-noAOA'\n",
    "}\n",
    "setup = {}\n",
    "for name in ['NACA-63215-highAOA']:\n",
    "    filename = name+'_Re'+\"{:.1e}\".format(Re)\n",
    "    setup[name] = setup_simulation(name, filename)"
   ]
  },
  {
   "cell_type": "code",
   "execution_count": 40,
   "outputs": [
    {
     "name": "stdout",
     "output_type": "stream",
     "text": [
      "0 0.0 0.0\n"
     ]
    },
    {
     "ename": "KeyboardInterrupt",
     "evalue": "",
     "output_type": "error",
     "traceback": [
      "\u001B[0;31m---------------------------------------------------------------------------\u001B[0m",
      "\u001B[0;31mKeyboardInterrupt\u001B[0m                         Traceback (most recent call last)",
      "Cell \u001B[0;32mIn[40], line 4\u001B[0m\n\u001B[1;32m      2\u001B[0m t \u001B[38;5;241m=\u001B[39m time()\n\u001B[1;32m      3\u001B[0m [simulation, flow, Energy, nmax] \u001B[38;5;241m=\u001B[39m setup[name]\n\u001B[0;32m----> 4\u001B[0m \u001B[43mrun_n_plot\u001B[49m\u001B[43m(\u001B[49m\u001B[43msimulation\u001B[49m\u001B[43m,\u001B[49m\u001B[43m \u001B[49m\u001B[43mflow\u001B[49m\u001B[43m,\u001B[49m\u001B[43m \u001B[49m\u001B[43mEnergy\u001B[49m\u001B[43m,\u001B[49m\u001B[43m \u001B[49m\u001B[43mnmax\u001B[49m\u001B[43m)\u001B[49m\n\u001B[1;32m      5\u001B[0m \u001B[38;5;28mprint\u001B[39m(name, \u001B[38;5;124m\"\u001B[39m\u001B[38;5;124m took \u001B[39m\u001B[38;5;124m\"\u001B[39m, time()\u001B[38;5;241m-\u001B[39mt, \u001B[38;5;124m\"\u001B[39m\u001B[38;5;124m s\u001B[39m\u001B[38;5;130;01m\\n\u001B[39;00m\u001B[38;5;124m\"\u001B[39m)\n",
      "Cell \u001B[0;32mIn[32], line 31\u001B[0m, in \u001B[0;36mrun_n_plot\u001B[0;34m(simulation, flow, Energy, nmax)\u001B[0m\n\u001B[1;32m     29\u001B[0m iterations \u001B[38;5;241m=\u001B[39m \u001B[38;5;28mint\u001B[39m(nmax\u001B[38;5;241m/\u001B[39m\u001B[38;5;241m/\u001B[39mnconsole)\n\u001B[1;32m     30\u001B[0m \u001B[38;5;28;01mfor\u001B[39;00m i \u001B[38;5;129;01min\u001B[39;00m \u001B[38;5;28mrange\u001B[39m(iterations):\n\u001B[0;32m---> 31\u001B[0m     mlups \u001B[38;5;241m+\u001B[39m\u001B[38;5;241m=\u001B[39m \u001B[43msimulation\u001B[49m\u001B[38;5;241;43m.\u001B[39;49m\u001B[43mstep\u001B[49m\u001B[43m(\u001B[49m\u001B[43mnconsole\u001B[49m\u001B[43m)\u001B[49m\n\u001B[1;32m     32\u001B[0m     energy_old \u001B[38;5;241m=\u001B[39m energy_new\n\u001B[1;32m     33\u001B[0m     energy_new \u001B[38;5;241m=\u001B[39m Energy(simulation\u001B[38;5;241m.\u001B[39mf)\u001B[38;5;241m.\u001B[39mmean()\u001B[38;5;241m.\u001B[39mitem()\n",
      "File \u001B[0;32m~/lettuce/lettuce/simulation.py:135\u001B[0m, in \u001B[0;36mSimulation.step\u001B[0;34m(self, num_steps)\u001B[0m\n\u001B[1;32m    133\u001B[0m \u001B[38;5;28mself\u001B[39m\u001B[38;5;241m.\u001B[39mcollide_and_stream(\u001B[38;5;28mself\u001B[39m)\n\u001B[1;32m    134\u001B[0m \u001B[38;5;28;01mfor\u001B[39;00m boundary \u001B[38;5;129;01min\u001B[39;00m \u001B[38;5;28mself\u001B[39m\u001B[38;5;241m.\u001B[39m_boundaries:\n\u001B[0;32m--> 135\u001B[0m     \u001B[38;5;28mself\u001B[39m\u001B[38;5;241m.\u001B[39mf \u001B[38;5;241m=\u001B[39m \u001B[43mboundary\u001B[49m\u001B[43m(\u001B[49m\u001B[38;5;28;43mself\u001B[39;49m\u001B[38;5;241;43m.\u001B[39;49m\u001B[43mf\u001B[49m\u001B[43m)\u001B[49m\n\u001B[1;32m    136\u001B[0m \u001B[38;5;28mself\u001B[39m\u001B[38;5;241m.\u001B[39mi \u001B[38;5;241m+\u001B[39m\u001B[38;5;241m=\u001B[39m \u001B[38;5;241m1\u001B[39m\n\u001B[1;32m    137\u001B[0m \u001B[38;5;28mself\u001B[39m\u001B[38;5;241m.\u001B[39m_report()\n",
      "File \u001B[0;32m~/lettuce/lettuce/boundary.py:150\u001B[0m, in \u001B[0;36mEquilibriumOutletP.__call__\u001B[0;34m(self, f)\u001B[0m\n\u001B[1;32m    148\u001B[0m other \u001B[38;5;241m=\u001B[39m [\u001B[38;5;28mslice\u001B[39m(\u001B[38;5;28;01mNone\u001B[39;00m)] \u001B[38;5;241m+\u001B[39m \u001B[38;5;28mself\u001B[39m\u001B[38;5;241m.\u001B[39mneighbor\n\u001B[1;32m    149\u001B[0m rho \u001B[38;5;241m=\u001B[39m \u001B[38;5;28mself\u001B[39m\u001B[38;5;241m.\u001B[39mlattice\u001B[38;5;241m.\u001B[39mrho(f)\n\u001B[0;32m--> 150\u001B[0m u \u001B[38;5;241m=\u001B[39m \u001B[38;5;28;43mself\u001B[39;49m\u001B[38;5;241;43m.\u001B[39;49m\u001B[43mlattice\u001B[49m\u001B[38;5;241;43m.\u001B[39;49m\u001B[43mu\u001B[49m\u001B[43m(\u001B[49m\u001B[43mf\u001B[49m\u001B[43m)\u001B[49m\n\u001B[1;32m    151\u001B[0m rho_w \u001B[38;5;241m=\u001B[39m \u001B[38;5;28mself\u001B[39m\u001B[38;5;241m.\u001B[39mrho0 \u001B[38;5;241m*\u001B[39m torch\u001B[38;5;241m.\u001B[39mones_like(rho[here])\n\u001B[1;32m    152\u001B[0m u_w \u001B[38;5;241m=\u001B[39m u[other]\n",
      "File \u001B[0;32m~/lettuce/lettuce/lattices.py:86\u001B[0m, in \u001B[0;36mLattice.u\u001B[0;34m(self, f, rho, acceleration)\u001B[0m\n\u001B[1;32m     84\u001B[0m \u001B[38;5;28;01mif\u001B[39;00m rho \u001B[38;5;129;01mis\u001B[39;00m \u001B[38;5;28;01mNone\u001B[39;00m:\n\u001B[1;32m     85\u001B[0m     rho \u001B[38;5;241m=\u001B[39m \u001B[38;5;28mself\u001B[39m\u001B[38;5;241m.\u001B[39mrho(f)\n\u001B[0;32m---> 86\u001B[0m v \u001B[38;5;241m=\u001B[39m \u001B[38;5;28;43mself\u001B[39;49m\u001B[38;5;241;43m.\u001B[39;49m\u001B[43mj\u001B[49m\u001B[43m(\u001B[49m\u001B[43mf\u001B[49m\u001B[43m)\u001B[49m \u001B[38;5;241m/\u001B[39m rho\n\u001B[1;32m     87\u001B[0m \u001B[38;5;66;03m# apply correction due to forcing, which effectively averages the pre- and post-collision velocity\u001B[39;00m\n\u001B[1;32m     88\u001B[0m correction \u001B[38;5;241m=\u001B[39m \u001B[38;5;241m0.0\u001B[39m\n",
      "File \u001B[0;32m~/lettuce/lettuce/lattices.py:80\u001B[0m, in \u001B[0;36mLattice.j\u001B[0;34m(self, f)\u001B[0m\n\u001B[1;32m     78\u001B[0m \u001B[38;5;28;01mdef\u001B[39;00m \u001B[38;5;21mj\u001B[39m(\u001B[38;5;28mself\u001B[39m, f):\n\u001B[1;32m     79\u001B[0m     \u001B[38;5;124;03m\"\"\"momentum\"\"\"\u001B[39;00m\n\u001B[0;32m---> 80\u001B[0m     \u001B[38;5;28;01mreturn\u001B[39;00m \u001B[38;5;28;43mself\u001B[39;49m\u001B[38;5;241;43m.\u001B[39;49m\u001B[43meinsum\u001B[49m\u001B[43m(\u001B[49m\u001B[38;5;124;43m\"\u001B[39;49m\u001B[38;5;124;43mqd,q->d\u001B[39;49m\u001B[38;5;124;43m\"\u001B[39;49m\u001B[43m,\u001B[49m\u001B[43m \u001B[49m\u001B[43m[\u001B[49m\u001B[38;5;28;43mself\u001B[39;49m\u001B[38;5;241;43m.\u001B[39;49m\u001B[43me\u001B[49m\u001B[43m,\u001B[49m\u001B[43m \u001B[49m\u001B[43mf\u001B[49m\u001B[43m]\u001B[49m\u001B[43m)\u001B[49m\n",
      "File \u001B[0;32m~/lettuce/lettuce/lattices.py:139\u001B[0m, in \u001B[0;36mLattice.einsum\u001B[0;34m(self, equation, fields, **kwargs)\u001B[0m\n\u001B[1;32m    137\u001B[0m         \u001B[38;5;28;01mraise\u001B[39;00m LettuceException(\u001B[38;5;124m\"\u001B[39m\u001B[38;5;124mBad dimension.\u001B[39m\u001B[38;5;124m\"\u001B[39m)\n\u001B[1;32m    138\u001B[0m equation \u001B[38;5;241m=\u001B[39m \u001B[38;5;124m\"\u001B[39m\u001B[38;5;124m,\u001B[39m\u001B[38;5;124m\"\u001B[39m\u001B[38;5;241m.\u001B[39mjoin(inputs) \u001B[38;5;241m+\u001B[39m \u001B[38;5;124m\"\u001B[39m\u001B[38;5;124m->\u001B[39m\u001B[38;5;124m\"\u001B[39m \u001B[38;5;241m+\u001B[39m output\n\u001B[0;32m--> 139\u001B[0m \u001B[38;5;28;01mreturn\u001B[39;00m \u001B[43mtorch\u001B[49m\u001B[38;5;241;43m.\u001B[39;49m\u001B[43meinsum\u001B[49m\u001B[43m(\u001B[49m\u001B[43mequation\u001B[49m\u001B[43m,\u001B[49m\u001B[43m \u001B[49m\u001B[43mfields\u001B[49m\u001B[43m,\u001B[49m\u001B[43m \u001B[49m\u001B[38;5;241;43m*\u001B[39;49m\u001B[38;5;241;43m*\u001B[39;49m\u001B[43mkwargs\u001B[49m\u001B[43m)\u001B[49m\n",
      "File \u001B[0;32m~/anaconda3/envs/lettuce/lib/python3.10/site-packages/torch/functional.py:373\u001B[0m, in \u001B[0;36meinsum\u001B[0;34m(*args)\u001B[0m\n\u001B[1;32m    370\u001B[0m     _operands \u001B[38;5;241m=\u001B[39m operands[\u001B[38;5;241m0\u001B[39m]\n\u001B[1;32m    371\u001B[0m     \u001B[38;5;66;03m# recurse incase operands contains value that has torch function\u001B[39;00m\n\u001B[1;32m    372\u001B[0m     \u001B[38;5;66;03m# in the original implementation this line is omitted\u001B[39;00m\n\u001B[0;32m--> 373\u001B[0m     \u001B[38;5;28;01mreturn\u001B[39;00m \u001B[43meinsum\u001B[49m\u001B[43m(\u001B[49m\u001B[43mequation\u001B[49m\u001B[43m,\u001B[49m\u001B[43m \u001B[49m\u001B[38;5;241;43m*\u001B[39;49m\u001B[43m_operands\u001B[49m\u001B[43m)\u001B[49m\n\u001B[1;32m    375\u001B[0m \u001B[38;5;28;01mif\u001B[39;00m \u001B[38;5;28mlen\u001B[39m(operands) \u001B[38;5;241m<\u001B[39m\u001B[38;5;241m=\u001B[39m \u001B[38;5;241m2\u001B[39m \u001B[38;5;129;01mor\u001B[39;00m \u001B[38;5;129;01mnot\u001B[39;00m opt_einsum\u001B[38;5;241m.\u001B[39menabled:\n\u001B[1;32m    376\u001B[0m     \u001B[38;5;66;03m# the path for contracting 0 or 1 time(s) is already optimized\u001B[39;00m\n\u001B[1;32m    377\u001B[0m     \u001B[38;5;66;03m# or the user has disabled using opt_einsum\u001B[39;00m\n\u001B[1;32m    378\u001B[0m     \u001B[38;5;28;01mreturn\u001B[39;00m _VF\u001B[38;5;241m.\u001B[39meinsum(equation, operands)  \u001B[38;5;66;03m# type: ignore[attr-defined]\u001B[39;00m\n",
      "File \u001B[0;32m~/anaconda3/envs/lettuce/lib/python3.10/site-packages/torch/functional.py:378\u001B[0m, in \u001B[0;36meinsum\u001B[0;34m(*args)\u001B[0m\n\u001B[1;32m    373\u001B[0m     \u001B[38;5;28;01mreturn\u001B[39;00m einsum(equation, \u001B[38;5;241m*\u001B[39m_operands)\n\u001B[1;32m    375\u001B[0m \u001B[38;5;28;01mif\u001B[39;00m \u001B[38;5;28mlen\u001B[39m(operands) \u001B[38;5;241m<\u001B[39m\u001B[38;5;241m=\u001B[39m \u001B[38;5;241m2\u001B[39m \u001B[38;5;129;01mor\u001B[39;00m \u001B[38;5;129;01mnot\u001B[39;00m opt_einsum\u001B[38;5;241m.\u001B[39menabled:\n\u001B[1;32m    376\u001B[0m     \u001B[38;5;66;03m# the path for contracting 0 or 1 time(s) is already optimized\u001B[39;00m\n\u001B[1;32m    377\u001B[0m     \u001B[38;5;66;03m# or the user has disabled using opt_einsum\u001B[39;00m\n\u001B[0;32m--> 378\u001B[0m     \u001B[38;5;28;01mreturn\u001B[39;00m \u001B[43m_VF\u001B[49m\u001B[38;5;241;43m.\u001B[39;49m\u001B[43meinsum\u001B[49m\u001B[43m(\u001B[49m\u001B[43mequation\u001B[49m\u001B[43m,\u001B[49m\u001B[43m \u001B[49m\u001B[43moperands\u001B[49m\u001B[43m)\u001B[49m  \u001B[38;5;66;03m# type: ignore[attr-defined]\u001B[39;00m\n\u001B[1;32m    380\u001B[0m path \u001B[38;5;241m=\u001B[39m \u001B[38;5;28;01mNone\u001B[39;00m\n\u001B[1;32m    381\u001B[0m \u001B[38;5;28;01mif\u001B[39;00m opt_einsum\u001B[38;5;241m.\u001B[39mis_available():\n",
      "\u001B[0;31mKeyboardInterrupt\u001B[0m: "
     ]
    }
   ],
   "source": [
    "for name in ['NACA-63215-highAOA']:\n",
    "    t = time()\n",
    "    [simulation, flow, Energy, nmax] = setup[name]\n",
    "    run_n_plot(simulation, flow, Energy, nmax)\n",
    "    print(name, \" took \", time()-t, \" s\\n\")"
   ],
   "metadata": {
    "collapsed": false
   }
  }
 ],
 "metadata": {
  "kernelspec": {
   "display_name": "Python 3 (ipykernel)",
   "language": "python",
   "name": "python3"
  },
  "language_info": {
   "codemirror_mode": {
    "name": "ipython",
    "version": 3
   },
   "file_extension": ".py",
   "mimetype": "text/x-python",
   "name": "python",
   "nbconvert_exporter": "python",
   "pygments_lexer": "ipython3",
   "version": "3.9.7"
  }
 },
 "nbformat": 4,
 "nbformat_minor": 5
}
