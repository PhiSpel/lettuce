{
 "cells": [
  {
   "cell_type": "markdown",
   "id": "8275480f",
   "metadata": {},
   "source": [
    "## Grid refinement study for the flow around an obstacle"
   ]
  },
  {
   "cell_type": "code",
   "execution_count": 44,
   "id": "95c5e8f8",
   "metadata": {
    "ExecuteTime": {
     "start_time": "2023-04-20T11:27:03.746555Z",
     "end_time": "2023-04-20T11:27:03.790145Z"
    }
   },
   "outputs": [],
   "source": [
    "import lettuce as lt\n",
    "import torch\n",
    "import numpy as np\n",
    "from scipy import interpolate\n",
    "from matplotlib import pyplot as plt"
   ]
  },
  {
   "cell_type": "code",
   "execution_count": 45,
   "outputs": [],
   "source": [
    "nreport = 100\n",
    "nconsole = 500\n",
    "nmax = 10000\n",
    "epsilon = 1e-5\n",
    "Re = 3200\n",
    "Ma = 0.1\n",
    "lattice = lt.Lattice(lt.D2Q9, torch.device(\"cuda:0\"), use_native=False)\n",
    "length_x = 10.1\n",
    "ny = 499\n",
    "nx = 999\n",
    "outname = 'out4'\n",
    "naca_name = 'naca_5deg.csv'"
   ],
   "metadata": {
    "collapsed": false,
    "ExecuteTime": {
     "start_time": "2023-04-20T11:27:03.790076Z",
     "end_time": "2023-04-20T11:27:03.790372Z"
    }
   }
  },
  {
   "cell_type": "code",
   "execution_count": 46,
   "id": "3a1158ed",
   "metadata": {
    "ExecuteTime": {
     "start_time": "2023-04-20T11:27:03.790254Z",
     "end_time": "2023-04-20T11:27:03.790509Z"
    }
   },
   "outputs": [],
   "source": [
    "def mask_from_csv(x, y, naca_name=naca_name):\n",
    "    nx1, ny1 = np.shape(x)\n",
    "    n_wing_nose = int(nx1//4)    # wing starts after 1/4 of domain length\n",
    "    n_wing_tail = int(nx1*3//4)  # wing goes until 3/4 of domain length\n",
    "    n_wing_height = int(ny1//2)  # wing sits at middle of domain length\n",
    "\n",
    "    # read wing data from http://airfoiltools.com/plotter/index\n",
    "    surface_data = np.genfromtxt(naca_name, delimiter=\",\")[9:,:]\n",
    "    surface_data = surface_data[:np.min(np.where(np.isnan(surface_data)[:,1])),:]\n",
    "    zero_row = np.where(surface_data[:,1]==0)[0][0]\n",
    "    x_data_top, y_data_top = surface_data[:zero_row,:].transpose()\n",
    "    x_data_bottom, y_data_bottom = surface_data[zero_row:,:].transpose()\n",
    "\n",
    "    # calculate scaling factor\n",
    "    x_wing_nose = x[n_wing_nose,0]\n",
    "    x_wing_tail = x[n_wing_tail,0]\n",
    "    available_length_x = x_wing_tail - x_wing_nose\n",
    "    available_length_n = n_wing_tail-n_wing_nose\n",
    "    actual_wing_length_x = max(max(x_data_top), max(x_data_bottom))\n",
    "    scaling_factor = available_length_x / actual_wing_length_x\n",
    "\n",
    "    # scale wing data to fit domain restrictions\n",
    "    x_data_top *= scaling_factor\n",
    "    x_data_bottom *= scaling_factor\n",
    "    y_data_top *= scaling_factor\n",
    "    y_data_bottom *= scaling_factor\n",
    "\n",
    "    # mapping data to the grid\n",
    "    x_data_interp        = np.linspace(0, available_length_x, available_length_n)            # [0 ... 5.05]\n",
    "    y_data_top_interp    = interpolate.interp1d(x_data_top, y_data_top, fill_value=\"extrapolate\")(x_data_interp)       # .interp1d object\n",
    "    y_data_bottom_interp = interpolate.interp1d(x_data_bottom, y_data_bottom, fill_value=\"extrapolate\")(x_data_interp) # .interp1d object\n",
    "\n",
    "    # shifting the wing up by half the grid\n",
    "    y_wing_height = y[0, n_wing_height]\n",
    "    y_data_top_interp += y_wing_height\n",
    "    y_data_bottom_interp += y_wing_height\n",
    "\n",
    "    # setting y data in a 2D grid to compare with flow.grid[1]\n",
    "    y_data_top_mapped = np.zeros(np.shape(y))\n",
    "    y_data_top_mapped[n_wing_nose:n_wing_tail, :] = np.array([y_data_top_interp]).transpose()\n",
    "    y_data_bottom_mapped = np.zeros(np.shape(y))\n",
    "    y_data_bottom_mapped[n_wing_nose:n_wing_tail, :] = np.array([y_data_bottom_interp]).transpose()\n",
    "\n",
    "    # creating and plotting mask\n",
    "    bool_mask = (y < y_data_top_mapped) & (y > y_data_bottom_mapped)\n",
    "    plt.imshow(bool_mask.transpose(), origin=\"lower\", cmap='gray_r')\n",
    "\n",
    "    return bool_mask"
   ]
  },
  {
   "cell_type": "code",
   "execution_count": 47,
   "outputs": [],
   "source": [
    "# class Naca(lt.Obstacle):\n",
    "\n",
    "\n",
    "def run(nx=200, ny=100, nmax=10000, Re=3200.0, Ma=0.1, lattice=lt.Lattice(lt.D2Q9, device=torch.device(\"cuda:0\"), use_native=False), length_x=10.1, *axes):\n",
    "    # run a bit with low Re\n",
    "    flow = lt.Obstacle((nx, ny),reynolds_number=100,mach_number=Ma,lattice=lattice,domain_length_x=length_x)\n",
    "    x, y = flow.grid\n",
    "    flow.mask = mask_from_csv(x, y)\n",
    "    simulation = lt.Simulation(flow, lattice, lt.RegularizedCollision(lattice, flow.units.relaxation_parameter_lu),lt.StandardStreaming(lattice))\n",
    "    simulation.initialize_f_neq()\n",
    "    simulation.step(10000)\n",
    "    simulation.save_checkpoint(\"./data/checkpoint\")\n",
    "\n",
    "    flow = lt.Obstacle(\n",
    "        (nx, ny),\n",
    "        reynolds_number=Re,\n",
    "        mach_number=Ma,\n",
    "        lattice=lattice,\n",
    "        domain_length_x=length_x\n",
    "    )\n",
    "    x, y = flow.grid\n",
    "    flow.mask = mask_from_csv(x, y)\n",
    "    axes[0].imshow(flow.mask.T, origin=\"lower\")\n",
    "    simulation = lt.Simulation(flow, lattice, lt.RegularizedCollision(lattice, flow.units.relaxation_parameter_lu),\n",
    "                        lt.StandardStreaming(lattice))\n",
    "    simulation.load_checkpoint(\"./data/checkpoint\")\n",
    "\n",
    "    # set up reporters\n",
    "    Energy = lt.IncompressibleKineticEnergy(lattice, flow)\n",
    "    energy_reporter_internal = lt.ObservableReporter(Energy, interval=nreport, out=None)\n",
    "    simulation.reporters.append(energy_reporter_internal)\n",
    "    simulation.reporters.append(lt.ObservableReporter(Energy, interval=nconsole)) # print energy\n",
    "    simulation.reporters.append(lt.VTKReporter(lattice, flow, interval=nreport, filename_base=\"./data/\"+outname))\n",
    "\n",
    "    # initialize simulation\n",
    "    # simulation.initialize_pressure() # first calculate equilibrium of u for Re=100\n",
    "    simulation.initialize_f_neq()\n",
    "    energy_new = 0\n",
    "    mlups = 0\n",
    "    iterations = int(nmax//nconsole)\n",
    "    for i in range(iterations):\n",
    "        energy_old = energy_new\n",
    "        energy_new = Energy(simulation.f).mean()\n",
    "        mlups += simulation.step(nconsole)\n",
    "        if abs((energy_new - energy_old)/energy_new) < epsilon or not energy_new == energy_new:\n",
    "            print(\"CONVERGENCE! Less than \", epsilon*100, \" % relative change\")\n",
    "            print(\"avg MLUPS: \", mlups/i)\n",
    "            u = flow.units.convert_velocity_to_pu(lattice.u(simulation.f).detach().cpu().numpy())\n",
    "            return axes[1].imshow(u[0,...].T, origin=\"lower\")\n",
    "        else:\n",
    "            print(\"no convergence, only \", epsilon*100, \" % relative change\")\n",
    "    print(\"avg MLUPS: \", mlups/iterations)\n",
    "    u = flow.units.convert_velocity_to_pu(lattice.u(simulation.f).detach().cpu().numpy())\n",
    "    return axes[1].imshow(u[0,...].T, origin=\"lower\")"
   ],
   "metadata": {
    "collapsed": false,
    "ExecuteTime": {
     "start_time": "2023-04-20T11:27:03.790414Z",
     "end_time": "2023-04-20T11:27:03.790622Z"
    }
   }
  },
  {
   "cell_type": "code",
   "execution_count": 48,
   "id": "5ab90e9e",
   "metadata": {
    "scrolled": true,
    "ExecuteTime": {
     "start_time": "2023-04-20T11:27:03.790594Z",
     "end_time": "2023-04-20T11:28:22.135102Z"
    }
   },
   "outputs": [
    {
     "name": "stdout",
     "output_type": "stream",
     "text": [
      "steps     time     IncompressibleKineticEnergy\n",
      "steps     time     IncompressibleKineticEnergy\n",
      "0 0.0 27.572633743286133\n",
      "100 0.058370747936088305 27.61232566833496\n",
      "no convergence, only  0.001  % relative change\n",
      "200 0.11674149587217661 27.6564884185791\n",
      "no convergence, only  0.001  % relative change\n",
      "300 0.1751122438082649 27.700634002685547\n",
      "no convergence, only  0.001  % relative change\n",
      "400 0.23348299174435322 27.741844177246094\n",
      "no convergence, only  0.001  % relative change\n",
      "500 0.29185373968044154 27.780658721923828\n",
      "no convergence, only  0.001  % relative change\n",
      "600 0.3502244876165298 27.815582275390625\n",
      "no convergence, only  0.001  % relative change\n",
      "700 0.4085952355526181 27.846275329589844\n",
      "no convergence, only  0.001  % relative change\n",
      "800 0.46696598348870644 27.869125366210938\n",
      "no convergence, only  0.001  % relative change\n",
      "900 0.5253367314247948 27.88011360168457\n",
      "no convergence, only  0.001  % relative change\n",
      "1000 0.5837074793608831 27.884933471679688\n",
      "no convergence, only  0.001  % relative change\n",
      "1100 0.6420782272969713 27.8900089263916\n",
      "no convergence, only  0.001  % relative change\n",
      "1200 0.7004489752330596 27.89673614501953\n",
      "no convergence, only  0.001  % relative change\n",
      "1300 0.7588197231691479 27.90804672241211\n",
      "no convergence, only  0.001  % relative change\n",
      "1400 0.8171904711052362 27.92148780822754\n",
      "no convergence, only  0.001  % relative change\n",
      "1500 0.8755612190413246 27.93567657470703\n",
      "no convergence, only  0.001  % relative change\n",
      "1600 0.9339319669774129 27.948150634765625\n",
      "no convergence, only  0.001  % relative change\n",
      "1700 0.9923027149135012 27.955537796020508\n",
      "no convergence, only  0.001  % relative change\n",
      "1800 1.0506734628495895 27.963960647583008\n",
      "no convergence, only  0.001  % relative change\n",
      "1900 1.1090442107856777 27.974607467651367\n",
      "no convergence, only  0.001  % relative change\n",
      "2000 1.1674149587217661 27.98410987854004\n",
      "no convergence, only  0.001  % relative change\n",
      "2100 1.2257857066578544 27.99202537536621\n",
      "no convergence, only  0.001  % relative change\n",
      "2200 1.2841564545939426 27.991737365722656\n",
      "no convergence, only  0.001  % relative change\n",
      "2300 1.342527202530031 27.987682342529297\n",
      "no convergence, only  0.001  % relative change\n",
      "2400 1.4008979504661192 27.982542037963867\n",
      "no convergence, only  0.001  % relative change\n",
      "2500 1.4592686984022076 27.98145866394043\n",
      "no convergence, only  0.001  % relative change\n",
      "2600 1.5176394463382958 27.985136032104492\n",
      "no convergence, only  0.001  % relative change\n",
      "2700 1.5760101942743843 27.98860740661621\n",
      "no convergence, only  0.001  % relative change\n",
      "2800 1.6343809422104725 27.992219924926758\n",
      "no convergence, only  0.001  % relative change\n",
      "2900 1.6927516901465607 27.995813369750977\n",
      "no convergence, only  0.001  % relative change\n",
      "3000 1.7511224380826491 28.00061798095703\n",
      "no convergence, only  0.001  % relative change\n",
      "3100 1.8094931860187373 28.00714683532715\n",
      "no convergence, only  0.001  % relative change\n",
      "3200 1.8678639339548258 28.011947631835938\n",
      "no convergence, only  0.001  % relative change\n",
      "3300 1.926234681890914 28.013410568237305\n",
      "no convergence, only  0.001  % relative change\n",
      "3400 1.9846054298270024 28.006603240966797\n",
      "no convergence, only  0.001  % relative change\n",
      "3500 2.0429761777630904 27.98810386657715\n",
      "no convergence, only  0.001  % relative change\n",
      "3600 2.101346925699179 27.96498680114746\n",
      "no convergence, only  0.001  % relative change\n",
      "3700 2.1597176736352672 27.94611930847168\n",
      "no convergence, only  0.001  % relative change\n",
      "3800 2.2180884215713554 27.938255310058594\n",
      "no convergence, only  0.001  % relative change\n",
      "3900 2.2764591695074436 27.938308715820312\n",
      "no convergence, only  0.001  % relative change\n",
      "4000 2.3348299174435323 27.941509246826172\n",
      "CONVERGENCE! Less than  0.001  % relative change\n",
      "avg MLUPS:  81.61114881273355\n"
     ]
    },
    {
     "data": {
      "text/plain": "<matplotlib.colorbar.Colorbar at 0x7f7050422cb0>"
     },
     "execution_count": 48,
     "metadata": {},
     "output_type": "execute_result"
    },
    {
     "data": {
      "text/plain": "<Figure size 1000x300 with 3 Axes>",
      "image/png": "[encoded data removed]"
     },
     "metadata": {},
     "output_type": "display_data"
    }
   ],
   "source": [
    "fig, axes = plt.subplots(1,2, figsize=(10,3))\n",
    "fig.subplots_adjust(right=0.85)\n",
    "im2 = run(nx, ny, nmax, Re, Ma, lattice, length_x, *axes)\n",
    "cbar_ax = fig.add_axes([0.88, 0.15, 0.04, 0.7])\n",
    "fig.colorbar(im2, cax=cbar_ax)"
   ]
  },
  {
   "cell_type": "code",
   "execution_count": 48,
   "outputs": [],
   "source": [],
   "metadata": {
    "collapsed": false,
    "ExecuteTime": {
     "start_time": "2023-04-20T11:28:22.135337Z",
     "end_time": "2023-04-20T11:28:22.136290Z"
    }
   }
  },
  {
   "cell_type": "code",
   "execution_count": 48,
   "outputs": [],
   "source": [],
   "metadata": {
    "collapsed": false,
    "ExecuteTime": {
     "start_time": "2023-04-20T11:28:22.137553Z",
     "end_time": "2023-04-20T11:28:22.138518Z"
    }
   }
  }
 ],
 "metadata": {
  "kernelspec": {
   "display_name": "Python 3 (ipykernel)",
   "language": "python",
   "name": "python3"
  },
  "language_info": {
   "codemirror_mode": {
    "name": "ipython",
    "version": 3
   },
   "file_extension": ".py",
   "mimetype": "text/x-python",
   "name": "python",
   "nbconvert_exporter": "python",
   "pygments_lexer": "ipython3",
   "version": "3.9.7"
  }
 },
 "nbformat": 4,
 "nbformat_minor": 5
}
