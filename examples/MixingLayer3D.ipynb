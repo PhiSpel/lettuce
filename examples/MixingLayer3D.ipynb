{
 "cells": [
  {
   "cell_type": "markdown",
   "metadata": {},
   "source": [
    "# Mixing Layer 3D example\n",
    "This is an example of using the mixing layer flow.\n",
    "A three-dimensional flow is initialized and simulated. Afterward, the energy and the velocity field are plotted."
   ]
  },
  {
   "cell_type": "code",
   "execution_count": 1,
   "metadata": {
    "ExecuteTime": {
     "start_time": "2023-06-09T15:46:43.038502Z",
     "end_time": "2023-06-09T15:46:45.261450Z"
    }
   },
   "outputs": [],
   "source": [
    "import lettuce as lt\n",
    "import matplotlib.pyplot as plt\n",
    "import numpy as np\n",
    "import torch"
   ]
  },
  {
   "cell_type": "markdown",
   "metadata": {},
   "source": [
    "## Setup\n",
    "* for running on GPU: device = \"cuda\". CUDA drivers are required!\n",
    "* dtype=torch.float32 for single precision - float64 for double precision\n",
    "* select collision model (here BGKCollision) - try also KBCCollision or RegularizedCollision\n",
    "\n",
    "### Code:\n",
    "* Reporters will grab the results in between simulation steps (see reporters.py and simulation.py)\n",
    "* Output: Column 1: simulation steps, Column 2: time in LU, Column 3: kinetic energy in PU\n",
    "* Output: separate VTK-file with ux,uy,(uz) and p for every 100. time step in ./output"
   ]
  },
  {
   "cell_type": "code",
   "execution_count": 2,
   "metadata": {
    "ExecuteTime": {
     "start_time": "2023-06-09T15:46:45.288604Z",
     "end_time": "2023-06-09T15:46:45.455389Z"
    }
   },
   "outputs": [
    {
     "name": "stdout",
     "output_type": "stream",
     "text": [
      "steps     time     IncompressibleKineticEnergy\n",
      "steps     time     IncompressibleKineticEnergy\n"
     ]
    }
   ],
   "source": [
    "nmax     = 10000\n",
    "nconsole = 200\n",
    "nreport  = 100\n",
    "# epsilon  = 0.001 # convergence condition: .1 % relative change\n",
    "Re = 3200\n",
    "res = 61\n",
    "Ma = 0.5\n",
    "\n",
    "lattice = lt.Lattice(lt.D3Q27, device = torch.device(\"cuda\"), dtype=torch.float64, use_native=False)\n",
    "flow = lt.MixingLayer3D(resolution=res, reynolds_number=Re, mach_number=Ma, lattice=lattice)\n",
    "collision = lt.BGKCollision(lattice, tau=flow.units.relaxation_parameter_lu)\n",
    "streaming = lt.StandardStreaming(lattice)\n",
    "simulation = lt.Simulation(flow=flow, lattice=lattice, collision=collision, streaming=streaming)\n",
    "\n",
    "Energy = lt.IncompressibleKineticEnergy(lattice, flow)\n",
    "energy_reporter_internal = lt.ObservableReporter(Energy, interval=nreport, out=None)\n",
    "simulation.reporters.append(energy_reporter_internal)\n",
    "simulation.reporters.append(lt.ObservableReporter(Energy, interval=nconsole)) # print energy\n",
    "simulation.reporters.append(lt.VTKReporter(lattice, flow, interval=nreport,\n",
    "                                           filename_base=\"./data/mixinglayer3d\" + \"{:.1e}\".format(Re) + \"-res\" + str(res) + \"-Ma\" + str(Ma) + \"-symm-BGK/out\"))"
   ]
  },
  {
   "cell_type": "markdown",
   "metadata": {},
   "source": [
    "## Run simulations"
   ]
  },
  {
   "cell_type": "code",
   "execution_count": 3,
   "metadata": {
    "ExecuteTime": {
     "start_time": "2023-06-09T15:46:45.456049Z",
     "end_time": "2023-06-09T15:49:25.843240Z"
    }
   },
   "outputs": [
    {
     "name": "stdout",
     "output_type": "stream",
     "text": [
      "0 0.0 0.465277548714874\n"
     ]
    },
    {
     "name": "stderr",
     "output_type": "stream",
     "text": [
      "/home/philipp/lettuce/lettuce/simulation.py:122: UserWarning: where received a uint8 condition tensor. This behavior is deprecated and will be removed in a future version of PyTorch. Use a boolean condition instead. (Triggered internally at /opt/conda/conda-bld/pytorch_1678411187366/work/aten/src/ATen/native/TensorCompare.cpp:493.)\n",
      "  self.f = torch.where(self.collision.no_collision_mask, self.f, self.collision(self.f))\n"
     ]
    },
    {
     "name": "stdout",
     "output_type": "stream",
     "text": [
      "200 0.9464758511305342 0.06471077738495695\n",
      "400 1.8929517022610685 0.06890328445085261\n",
      "600 2.8394275533916025 0.07240282019840037\n",
      "800 3.785903404522137 0.07539414011431624\n",
      "1000 4.732379255652671 0.07802780607249743\n",
      "1200 5.678855106783205 0.08039987430992665\n",
      "1400 6.625330957913739 0.08257203075026108\n",
      "1600 7.571806809044274 0.08458156527356288\n",
      "1800 8.518282660174808 0.08645384872680947\n",
      "2000 9.464758511305343 0.08820874637578589\n",
      "2200 10.411234362435877 0.08986321310119283\n",
      "2400 11.35771021356641 0.09143255481567465\n",
      "2600 12.304186064696944 0.092929369615817\n",
      "2800 13.250661915827479 0.09436230897014457\n",
      "3000 14.197137766958013 0.09573683071467497\n",
      "3200 15.143613618088548 0.09705704041687302\n",
      "3400 16.09008946921908 0.09832702261240021\n",
      "3600 17.036565320349617 0.09955089238701621\n",
      "3800 17.98304117148015 0.10073241736529356\n",
      "4000 18.929517022610685 0.10187492693203998\n",
      "4200 19.875992873741218 0.10298134719777259\n",
      "4400 20.822468724871754 0.10405431195961129\n",
      "4600 21.768944576002287 0.10509620395867975\n",
      "4800 22.71542042713282 0.10610917073383978\n",
      "5000 23.661896278263356 0.10709515173302744\n",
      "5200 24.60837212939389 0.1080558926941177\n",
      "5400 25.554847980524425 0.10899296798880552\n",
      "5600 26.501323831654958 0.10990779801242985\n",
      "5800 27.447799682785494 0.11080166582498159\n",
      "6000 28.394275533916026 0.11167573307507864\n",
      "6200 29.340751385046563 0.1125310528816173\n",
      "6400 30.287227236177095 0.11336858245814074\n",
      "6600 31.233703087307628 0.11418919392273903\n",
      "6800 32.18017893843816 0.11499368385158383\n",
      "7000 33.1266547895687 0.11578278171439876\n",
      "7200 34.07313064069923 0.11655715724638692\n",
      "7400 35.01960649182977 0.1173174269873217\n",
      "7600 35.9660823429603 0.11806415995961507\n",
      "7800 36.912558194090835 0.1187978826541836\n",
      "8000 37.85903404522137 0.11951908341550255\n",
      "8200 38.8055098963519 0.12022821629389185\n",
      "8400 39.751985747482436 0.12092570442439504\n",
      "8600 40.69846159861297 0.12161194300047654\n",
      "8800 41.64493744974351 0.12228730189894332\n",
      "9000 42.59141330087404 0.12295212799795964\n",
      "9200 43.537889152004574 0.12360674722774984\n",
      "9400 44.48436500313511 0.12425146638857099\n",
      "9600 45.43084085426564 0.12488657476808863\n",
      "9800 46.377316705396176 0.1255123455823343\n",
      "10000 47.32379255652671 0.12612903726255265\n",
      "avg MLUPS:  14.153450131003169\n"
     ]
    }
   ],
   "source": [
    "simulation.initialize_f_neq()\n",
    "mlups = simulation.step(nmax)\n",
    "print(\"avg MLUPS: \", mlups)\n",
    "\n",
    "# energy_new = 0\n",
    "# mlups = 0\n",
    "# iterations = int(nmax//nconsole)\n",
    "# for _ in range(iterations):\n",
    "#     energy_old = energy_new\n",
    "#     energy_new = Energy(simulation.f).mean()\n",
    "#     mlups += simulation.step(nconsole)\n",
    "#     if abs((energy_new - energy_old)/energy_new) < epsilon:\n",
    "#         print(\"CONVERGENCE! Less than \", epsilon*100, \" % relative change\")\n",
    "#         break\n",
    "#     if not energy_new == energy_new:\n",
    "#         print(\"CRASH\")\n",
    "#         break\n",
    "# print(\"avg MLUPS: \", mlups/iterations)"
   ]
  },
  {
   "cell_type": "markdown",
   "metadata": {},
   "source": [
    "## Post process\n",
    "### Energy Reporter\n",
    "* Grab output of kinetic energy reporter"
   ]
  },
  {
   "cell_type": "code",
   "execution_count": 4,
   "metadata": {
    "ExecuteTime": {
     "start_time": "2023-06-09T15:49:25.845458Z",
     "end_time": "2023-06-09T15:49:26.065236Z"
    }
   },
   "outputs": [
    {
     "name": "stdout",
     "output_type": "stream",
     "text": [
      "(101, 3)\n"
     ]
    },
    {
     "data": {
      "text/plain": "<Figure size 640x480 with 1 Axes>",
      "image/png": "[encoded data removed]"
     },
     "metadata": {},
     "output_type": "display_data"
    }
   ],
   "source": [
    "energy = np.array(simulation.reporters[0].out)\n",
    "print(energy.shape)\n",
    "plt.plot(energy[:,1],energy[:,2])\n",
    "plt.title('Kinetic energy')\n",
    "plt.xlabel('Time')\n",
    "plt.ylabel('Energy in physical units')\n",
    "plt.show()"
   ]
  },
  {
   "cell_type": "markdown",
   "metadata": {},
   "source": [
    "### Velocity\n",
    "We calculate the speed in Lettuce units depending on the last 'f'. Then we convert this velocity into physical units. For further investigations the tensor must be converted into a Numpy-Array. The norm of the fractions in x and y direction is plotted afterwards."
   ]
  },
  {
   "cell_type": "markdown",
   "source": [],
   "metadata": {
    "collapsed": false
   }
  },
  {
   "cell_type": "code",
   "execution_count": 5,
   "metadata": {
    "ExecuteTime": {
     "start_time": "2023-06-02T13:20:12.547256Z",
     "end_time": "2023-06-02T13:20:12.675360Z"
    }
   },
   "outputs": [
    {
     "ename": "ValueError",
     "evalue": "too many values to unpack (expected 2)",
     "output_type": "error",
     "traceback": [
      "\u001B[0;31m---------------------------------------------------------------------------\u001B[0m",
      "\u001B[0;31mValueError\u001B[0m                                Traceback (most recent call last)",
      "Cell \u001B[0;32mIn[5], line 1\u001B[0m\n\u001B[0;32m----> 1\u001B[0m u_x, u_y \u001B[38;5;241m=\u001B[39m flow\u001B[38;5;241m.\u001B[39munits\u001B[38;5;241m.\u001B[39mconvert_velocity_to_pu(lattice\u001B[38;5;241m.\u001B[39mu(simulation\u001B[38;5;241m.\u001B[39mf))\u001B[38;5;241m.\u001B[39mcpu()\u001B[38;5;241m.\u001B[39mnumpy()[:,:,\u001B[38;5;28mint\u001B[39m(res\u001B[38;5;241m/\u001B[39m\u001B[38;5;241m/\u001B[39m\u001B[38;5;241m2\u001B[39m)]\n\u001B[1;32m      2\u001B[0m x, y \u001B[38;5;241m=\u001B[39m flow\u001B[38;5;241m.\u001B[39mgrid\n\u001B[1;32m      3\u001B[0m plt\u001B[38;5;241m.\u001B[39mquiver(x\u001B[38;5;241m.\u001B[39mtranspose(), y\u001B[38;5;241m.\u001B[39mtranspose(), u_x\u001B[38;5;241m.\u001B[39mtranspose(), u_y\u001B[38;5;241m.\u001B[39mtranspose())\n",
      "\u001B[0;31mValueError\u001B[0m: too many values to unpack (expected 2)"
     ]
    }
   ],
   "source": [
    "u_x, u_y = flow.units.convert_velocity_to_pu(lattice.u(simulation.f)).cpu().numpy()[:,:,int(res//2)]\n",
    "x, y = flow.grid\n",
    "plt.quiver(x.transpose(), y.transpose(), u_x.transpose(), u_y.transpose())"
   ]
  },
  {
   "cell_type": "code",
   "execution_count": null,
   "outputs": [],
   "source": [],
   "metadata": {
    "collapsed": false,
    "ExecuteTime": {
     "start_time": "2023-06-02T13:20:12.675187Z",
     "end_time": "2023-06-02T13:20:12.676396Z"
    }
   }
  }
 ],
 "metadata": {
  "kernelspec": {
   "display_name": "Python 3 (ipykernel)",
   "language": "python",
   "name": "python3"
  },
  "language_info": {
   "codemirror_mode": {
    "name": "ipython",
    "version": 3
   },
   "file_extension": ".py",
   "mimetype": "text/x-python",
   "name": "python",
   "nbconvert_exporter": "python",
   "pygments_lexer": "ipython3",
   "version": "3.10.10"
  }
 },
 "nbformat": 4,
 "nbformat_minor": 4
}
